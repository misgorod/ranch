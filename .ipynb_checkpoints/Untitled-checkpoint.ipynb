{
 "cells": [
  {
   "cell_type": "code",
   "execution_count": 7,
   "metadata": {},
   "outputs": [],
   "source": [
    "import csv\n",
    "\n",
    "metrics = []\n",
    "\n",
    "with open('metrics/ranch-metrics.csv', 'r') as f:\n",
    "    r = csv.DictReader(f)\n",
    "    for row in r:\n",
    "        metrics.append(dict(row))"
   ]
  },
  {
   "cell_type": "code",
   "execution_count": 8,
   "metadata": {},
   "outputs": [
    {
     "ename": "SyntaxError",
     "evalue": "invalid syntax (<ipython-input-8-27b193200ab6>, line 10)",
     "output_type": "error",
     "traceback": [
      "\u001b[0;36m  File \u001b[0;32m\"<ipython-input-8-27b193200ab6>\"\u001b[0;36m, line \u001b[0;32m10\u001b[0m\n\u001b[0;31m    rects2 = ax.bar(x + width/2, [metric['rate'] for _, metric in metrics if metric['type'] == 'ranch'] width, label='ranch')\u001b[0m\n\u001b[0m                                                                                                            ^\u001b[0m\n\u001b[0;31mSyntaxError\u001b[0m\u001b[0;31m:\u001b[0m invalid syntax\n"
     ]
    }
   ],
   "source": [
    "import matplotlib.pyplot as plt\n",
    "import numpy as np\n",
    "\n",
    "x = np.arange(len(metrics)/2)\n",
    "width = 0.35\n",
    "\n",
    "fig, ax = plt.subplots()\n",
    "\n",
    "rects1 = ax.bar(x - width/2, np.array([metric['rate'] for _, metric in metrics if metric['type'] == 'default']), width, label='default')\n",
    "rects2 = ax.bar(x + width/2, np.array([metric['rate'] for _, metric in metrics if metric['type'] == 'ranch']), width, label='ranch')\n",
    "\n",
    "ax.set_ylabel('Скорость отправки, МБ/с')\n",
    "ax.set_xticks(x)\n",
    "ax.set_xticklabels([metric['size'] for metric in metrics if metric['type'] == 'default'])"
   ]
  },
  {
   "cell_type": "code",
   "execution_count": null,
   "metadata": {},
   "outputs": [],
   "source": []
  }
 ],
 "metadata": {
  "kernelspec": {
   "display_name": "Python 3",
   "language": "python",
   "name": "python3"
  },
  "language_info": {
   "codemirror_mode": {
    "name": "ipython",
    "version": 3
   },
   "file_extension": ".py",
   "mimetype": "text/x-python",
   "name": "python",
   "nbconvert_exporter": "python",
   "pygments_lexer": "ipython3",
   "version": "3.6.9"
  }
 },
 "nbformat": 4,
 "nbformat_minor": 4
}
